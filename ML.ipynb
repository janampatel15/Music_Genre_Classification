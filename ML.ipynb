{
 "cells": [
  {
   "cell_type": "markdown",
   "metadata": {},
   "source": [
    "# ML model implementation\n",
    "In this file, we implement different ML classification models to compare it with our Neural Network models (ANN and CNN).\n",
    "\n",
    "We will run our ML classification models on two csv files. The 30 seconds csv file contains audio features over all of the audio, and 3 seconds csv contains audio feature at every 3 seconds intervals. "
   ]
  },
  {
   "cell_type": "code",
   "execution_count": 1,
   "metadata": {},
   "outputs": [],
   "source": [
    "import numpy as np\n",
    "np.random.seed(0)\n",
    "import pandas as pd\n",
    "import matplotlib.pyplot as plt\n",
    "from sklearn.model_selection import GridSearchCV, train_test_split\n",
    "from sklearn.preprocessing import StandardScaler\n",
    "\n",
    "# importing some of our models and pipeline which will help us with performing GridSearch effciently.\n",
    "from sklearn.pipeline import Pipeline\n",
    "from sklearn.linear_model import LogisticRegression\n",
    "from sklearn.neighbors import KNeighborsClassifier\n",
    "from sklearn.ensemble import RandomForestClassifier\n",
    "from sklearn.tree import DecisionTreeClassifier\n",
    "from sklearn.naive_bayes import GaussianNB\n",
    "from sklearn.svm import SVC\n",
    "\n",
    "# Importing some metrics that'll help us understand and visualize result\n",
    "from sklearn.metrics import confusion_matrix, classification_report, roc_curve\n",
    "\n",
    "import warnings \n",
    "warnings.filterwarnings('ignore')\n",
    "import seaborn as sns\n",
    "sns.set()"
   ]
  },
  {
   "cell_type": "code",
   "execution_count": null,
   "metadata": {},
   "outputs": [],
   "source": []
  },
  {
   "cell_type": "markdown",
   "metadata": {},
   "source": [
    "## 30 seconds"
   ]
  },
  {
   "cell_type": "code",
   "execution_count": 2,
   "metadata": {},
   "outputs": [
    {
     "data": {
      "text/plain": [
       "(1000, 21)"
      ]
     },
     "execution_count": 2,
     "metadata": {},
     "output_type": "execute_result"
    }
   ],
   "source": [
    "df = pd.read_csv('./data/features_30_sec.csv')\n",
    "\n",
    "# converting label columns into category data type\n",
    "df['label'] = df[\"label\"].astype('category')\n",
    "\n",
    "\n",
    "# drop all the columns except for mfcc_mean 1-20\n",
    "df1 = df.drop(df.iloc[:,:19],1)\n",
    "df1 = df1.drop(df1.iloc[:,1::2],1)\n",
    "# encode these labels\n",
    "df1['label'] = df1[\"label\"].cat.codes\n",
    "df1.shape"
   ]
  },
  {
   "cell_type": "code",
   "execution_count": 3,
   "metadata": {},
   "outputs": [
    {
     "data": {
      "text/html": [
       "<div>\n",
       "<style scoped>\n",
       "    .dataframe tbody tr th:only-of-type {\n",
       "        vertical-align: middle;\n",
       "    }\n",
       "\n",
       "    .dataframe tbody tr th {\n",
       "        vertical-align: top;\n",
       "    }\n",
       "\n",
       "    .dataframe thead th {\n",
       "        text-align: right;\n",
       "    }\n",
       "</style>\n",
       "<table border=\"1\" class=\"dataframe\">\n",
       "  <thead>\n",
       "    <tr style=\"text-align: right;\">\n",
       "      <th></th>\n",
       "      <th>mfcc1_mean</th>\n",
       "      <th>mfcc2_mean</th>\n",
       "      <th>mfcc3_mean</th>\n",
       "      <th>mfcc4_mean</th>\n",
       "      <th>mfcc5_mean</th>\n",
       "      <th>mfcc6_mean</th>\n",
       "      <th>mfcc7_mean</th>\n",
       "      <th>mfcc8_mean</th>\n",
       "      <th>mfcc9_mean</th>\n",
       "      <th>mfcc10_mean</th>\n",
       "      <th>...</th>\n",
       "      <th>mfcc12_mean</th>\n",
       "      <th>mfcc13_mean</th>\n",
       "      <th>mfcc14_mean</th>\n",
       "      <th>mfcc15_mean</th>\n",
       "      <th>mfcc16_mean</th>\n",
       "      <th>mfcc17_mean</th>\n",
       "      <th>mfcc18_mean</th>\n",
       "      <th>mfcc19_mean</th>\n",
       "      <th>mfcc20_mean</th>\n",
       "      <th>label</th>\n",
       "    </tr>\n",
       "  </thead>\n",
       "  <tbody>\n",
       "    <tr>\n",
       "      <th>0</th>\n",
       "      <td>-113.570648</td>\n",
       "      <td>121.571793</td>\n",
       "      <td>-19.168142</td>\n",
       "      <td>42.366421</td>\n",
       "      <td>-6.364664</td>\n",
       "      <td>18.623499</td>\n",
       "      <td>-13.704891</td>\n",
       "      <td>15.343150</td>\n",
       "      <td>-12.274110</td>\n",
       "      <td>10.976572</td>\n",
       "      <td>...</td>\n",
       "      <td>8.803792</td>\n",
       "      <td>-3.672300</td>\n",
       "      <td>5.747995</td>\n",
       "      <td>-5.162882</td>\n",
       "      <td>0.752740</td>\n",
       "      <td>-1.690215</td>\n",
       "      <td>-0.408979</td>\n",
       "      <td>-2.303523</td>\n",
       "      <td>1.221291</td>\n",
       "      <td>0</td>\n",
       "    </tr>\n",
       "    <tr>\n",
       "      <th>1</th>\n",
       "      <td>-207.501694</td>\n",
       "      <td>123.991264</td>\n",
       "      <td>8.955127</td>\n",
       "      <td>35.877647</td>\n",
       "      <td>2.907320</td>\n",
       "      <td>21.510466</td>\n",
       "      <td>-8.560436</td>\n",
       "      <td>23.370686</td>\n",
       "      <td>-10.099661</td>\n",
       "      <td>11.900497</td>\n",
       "      <td>...</td>\n",
       "      <td>5.376327</td>\n",
       "      <td>-2.231760</td>\n",
       "      <td>4.220140</td>\n",
       "      <td>-6.012148</td>\n",
       "      <td>0.927998</td>\n",
       "      <td>-0.731125</td>\n",
       "      <td>0.295073</td>\n",
       "      <td>-0.283518</td>\n",
       "      <td>0.531217</td>\n",
       "      <td>0</td>\n",
       "    </tr>\n",
       "    <tr>\n",
       "      <th>2</th>\n",
       "      <td>-90.722595</td>\n",
       "      <td>140.446304</td>\n",
       "      <td>-29.093889</td>\n",
       "      <td>31.684334</td>\n",
       "      <td>-13.984504</td>\n",
       "      <td>25.764742</td>\n",
       "      <td>-13.664875</td>\n",
       "      <td>11.639934</td>\n",
       "      <td>-11.783643</td>\n",
       "      <td>9.718760</td>\n",
       "      <td>...</td>\n",
       "      <td>5.791199</td>\n",
       "      <td>-8.907628</td>\n",
       "      <td>-1.077000</td>\n",
       "      <td>-9.229274</td>\n",
       "      <td>2.451690</td>\n",
       "      <td>-7.729093</td>\n",
       "      <td>-1.816407</td>\n",
       "      <td>-3.439720</td>\n",
       "      <td>-2.231258</td>\n",
       "      <td>0</td>\n",
       "    </tr>\n",
       "    <tr>\n",
       "      <th>3</th>\n",
       "      <td>-199.544205</td>\n",
       "      <td>150.090897</td>\n",
       "      <td>5.662678</td>\n",
       "      <td>26.859079</td>\n",
       "      <td>1.771399</td>\n",
       "      <td>14.234031</td>\n",
       "      <td>-4.832006</td>\n",
       "      <td>9.286494</td>\n",
       "      <td>-0.759186</td>\n",
       "      <td>8.137607</td>\n",
       "      <td>...</td>\n",
       "      <td>6.079319</td>\n",
       "      <td>-2.480174</td>\n",
       "      <td>-1.079305</td>\n",
       "      <td>-2.870789</td>\n",
       "      <td>0.780874</td>\n",
       "      <td>-3.319597</td>\n",
       "      <td>0.636965</td>\n",
       "      <td>-0.619121</td>\n",
       "      <td>-3.407448</td>\n",
       "      <td>0</td>\n",
       "    </tr>\n",
       "    <tr>\n",
       "      <th>4</th>\n",
       "      <td>-160.337708</td>\n",
       "      <td>126.219635</td>\n",
       "      <td>-35.587811</td>\n",
       "      <td>22.148071</td>\n",
       "      <td>-32.478600</td>\n",
       "      <td>10.852294</td>\n",
       "      <td>-23.352329</td>\n",
       "      <td>0.498434</td>\n",
       "      <td>-11.793437</td>\n",
       "      <td>1.207256</td>\n",
       "      <td>...</td>\n",
       "      <td>-2.813867</td>\n",
       "      <td>-6.933385</td>\n",
       "      <td>-7.552725</td>\n",
       "      <td>-9.164666</td>\n",
       "      <td>-4.520576</td>\n",
       "      <td>-5.454034</td>\n",
       "      <td>-0.916874</td>\n",
       "      <td>-4.404827</td>\n",
       "      <td>-11.703234</td>\n",
       "      <td>0</td>\n",
       "    </tr>\n",
       "  </tbody>\n",
       "</table>\n",
       "<p>5 rows × 21 columns</p>\n",
       "</div>"
      ],
      "text/plain": [
       "   mfcc1_mean  mfcc2_mean  mfcc3_mean  mfcc4_mean  mfcc5_mean  mfcc6_mean  \\\n",
       "0 -113.570648  121.571793  -19.168142   42.366421   -6.364664   18.623499   \n",
       "1 -207.501694  123.991264    8.955127   35.877647    2.907320   21.510466   \n",
       "2  -90.722595  140.446304  -29.093889   31.684334  -13.984504   25.764742   \n",
       "3 -199.544205  150.090897    5.662678   26.859079    1.771399   14.234031   \n",
       "4 -160.337708  126.219635  -35.587811   22.148071  -32.478600   10.852294   \n",
       "\n",
       "   mfcc7_mean  mfcc8_mean  mfcc9_mean  mfcc10_mean  ...  mfcc12_mean  \\\n",
       "0  -13.704891   15.343150  -12.274110    10.976572  ...     8.803792   \n",
       "1   -8.560436   23.370686  -10.099661    11.900497  ...     5.376327   \n",
       "2  -13.664875   11.639934  -11.783643     9.718760  ...     5.791199   \n",
       "3   -4.832006    9.286494   -0.759186     8.137607  ...     6.079319   \n",
       "4  -23.352329    0.498434  -11.793437     1.207256  ...    -2.813867   \n",
       "\n",
       "   mfcc13_mean  mfcc14_mean  mfcc15_mean  mfcc16_mean  mfcc17_mean  \\\n",
       "0    -3.672300     5.747995    -5.162882     0.752740    -1.690215   \n",
       "1    -2.231760     4.220140    -6.012148     0.927998    -0.731125   \n",
       "2    -8.907628    -1.077000    -9.229274     2.451690    -7.729093   \n",
       "3    -2.480174    -1.079305    -2.870789     0.780874    -3.319597   \n",
       "4    -6.933385    -7.552725    -9.164666    -4.520576    -5.454034   \n",
       "\n",
       "   mfcc18_mean  mfcc19_mean  mfcc20_mean  label  \n",
       "0    -0.408979    -2.303523     1.221291      0  \n",
       "1     0.295073    -0.283518     0.531217      0  \n",
       "2    -1.816407    -3.439720    -2.231258      0  \n",
       "3     0.636965    -0.619121    -3.407448      0  \n",
       "4    -0.916874    -4.404827   -11.703234      0  \n",
       "\n",
       "[5 rows x 21 columns]"
      ]
     },
     "execution_count": 3,
     "metadata": {},
     "output_type": "execute_result"
    }
   ],
   "source": [
    "df1.head()"
   ]
  },
  {
   "cell_type": "code",
   "execution_count": 4,
   "metadata": {},
   "outputs": [],
   "source": [
    "# shuffle the dataframe\n",
    "df1 = df1.sample(frac=1, random_state=0)"
   ]
  },
  {
   "cell_type": "code",
   "execution_count": 5,
   "metadata": {},
   "outputs": [],
   "source": [
    "# the data scale varies from one mfcc feature to another, so we will normalize it using \n",
    "# sklearn's statndardscaler\n",
    "\n",
    "scaler = StandardScaler()\n",
    "X = df1[df1.columns[~df1.columns.isin(['label'])]].to_numpy()\n",
    "X = scaler.fit_transform(X)\n",
    "\n",
    "y = df1['label'].to_numpy()"
   ]
  },
  {
   "cell_type": "code",
   "execution_count": 6,
   "metadata": {},
   "outputs": [
    {
     "data": {
      "text/plain": [
       "((1000, 20), (1000,))"
      ]
     },
     "execution_count": 6,
     "metadata": {},
     "output_type": "execute_result"
    }
   ],
   "source": [
    "X.shape, y.shape"
   ]
  },
  {
   "cell_type": "code",
   "execution_count": 7,
   "metadata": {},
   "outputs": [],
   "source": [
    "# split the dataset, with 30% of dataset used for testing, \n",
    "# wih random state set to 0, to get same results on each run \n",
    "X_train, X_test, y_train, y_test = train_test_split(X, y, test_size=0.30, random_state=0)"
   ]
  },
  {
   "cell_type": "code",
   "execution_count": 8,
   "metadata": {},
   "outputs": [],
   "source": [
    "# creating pipeline for our gridsearch\n",
    "pipe = Pipeline(steps=[('classifier',LogisticRegression())])\n",
    "\n",
    "# defining the models and their hyperparameters that'll be passed into GridSearchCV\n",
    "param_grid=[\n",
    "    {\n",
    "        'classifier':[LogisticRegression()]\n",
    "    },\n",
    "    {\n",
    "        'classifier':[GaussianNB()],\n",
    "        'classifier__var_smoothing': [0.00000001, 0.000000001, 0.0000000001]\n",
    "\n",
    "    },\n",
    "    {     \n",
    "        'classifier':[KNeighborsClassifier()],\n",
    "        'classifier__metric':['euclidean','manhattan'],\n",
    "        'classifier__n_neighbors':range(1,50)\n",
    "    },\n",
    "    {\n",
    "        'classifier':[RandomForestClassifier()],\n",
    "        'classifier__n_estimators':range(5,50,5),\n",
    "        'classifier__criterion':['gini','entropy'],\n",
    "        'classifier__max_features':['auto','sqrt','log2']\n",
    "    },\n",
    "    {\n",
    "        'classifier':[DecisionTreeClassifier()],\n",
    "        'classifier__criterion':['gini','entropy'],\n",
    "        'classifier__max_features':['auto','sqrt','log2']       \n",
    "    },\n",
    "    {\n",
    "        'classifier':[SVC()],\n",
    "        'classifier__kernel':['linear', 'poly', 'rbf'],\n",
    "        'classifier__gamma':[0.1, 1, 10, 100]\n",
    "    }\n",
    "    \n",
    "]\n",
    "\n",
    "\n",
    "clf = GridSearchCV(estimator = pipe, param_grid = param_grid, scoring = 'accuracy', n_jobs=-1, \n",
    "                   verbose = 2, cv = 10)"
   ]
  },
  {
   "cell_type": "code",
   "execution_count": 9,
   "metadata": {
    "scrolled": true
   },
   "outputs": [
    {
     "name": "stdout",
     "output_type": "stream",
     "text": [
      "Fitting 10 folds for each of 174 candidates, totalling 1740 fits\n",
      "CPU times: user 2.26 s, sys: 213 ms, total: 2.47 s\n",
      "Wall time: 43 s\n"
     ]
    }
   ],
   "source": [
    "%%time\n",
    "# fit and train our model\n",
    "best = clf.fit(X_train,y_train)"
   ]
  },
  {
   "cell_type": "code",
   "execution_count": 10,
   "metadata": {},
   "outputs": [
    {
     "name": "stdout",
     "output_type": "stream",
     "text": [
      "Our best model and params are {'classifier': SVC(gamma=0.1), 'classifier__gamma': 0.1, 'classifier__kernel': 'rbf'}\n"
     ]
    }
   ],
   "source": [
    "# best model and it's hyperparameters\n",
    "print(f'Our best model and params are {best.best_params_}')"
   ]
  },
  {
   "cell_type": "code",
   "execution_count": 11,
   "metadata": {},
   "outputs": [
    {
     "name": "stdout",
     "output_type": "stream",
     "text": [
      "Our Best accurracy score is 61.57%\n"
     ]
    }
   ],
   "source": [
    "# accuracy score according to the best performing model\n",
    "print(f'Our Best accurracy score is {round(best.best_score_*100,2)}%')"
   ]
  },
  {
   "cell_type": "code",
   "execution_count": 12,
   "metadata": {},
   "outputs": [
    {
     "name": "stdout",
     "output_type": "stream",
     "text": [
      "              precision    recall  f1-score   support\n",
      "\n",
      "           0       0.63      0.55      0.59        31\n",
      "           1       0.83      0.97      0.89        30\n",
      "           2       0.44      0.56      0.49        25\n",
      "           3       0.53      0.55      0.54        29\n",
      "           4       0.61      0.73      0.67        30\n",
      "           5       0.54      0.44      0.48        34\n",
      "           6       0.77      0.83      0.80        29\n",
      "           7       0.74      0.77      0.75        30\n",
      "           8       0.57      0.52      0.54        31\n",
      "           9       0.55      0.39      0.45        31\n",
      "\n",
      "    accuracy                           0.63       300\n",
      "   macro avg       0.62      0.63      0.62       300\n",
      "weighted avg       0.62      0.63      0.62       300\n",
      "\n"
     ]
    }
   ],
   "source": [
    "y_pred = best.predict(X_test)\n",
    "print(classification_report(y_test, y_pred))"
   ]
  },
  {
   "cell_type": "code",
   "execution_count": 13,
   "metadata": {},
   "outputs": [
    {
     "data": {
      "text/plain": [
       "Text(48.453125, 0.5, 'True Labels')"
      ]
     },
     "execution_count": 13,
     "metadata": {},
     "output_type": "execute_result"
    },
    {
     "data": {
      "image/png": "[encoded data removed]",
      "text/plain": [
       "<Figure size 576x432 with 2 Axes>"
      ]
     },
     "metadata": {},
     "output_type": "display_data"
    }
   ],
   "source": [
    "fig = plt.figure(figsize=(8, 6))\n",
    "\n",
    "cfn_matrix = confusion_matrix(y_test, y_pred)\n",
    "\n",
    "# for axis tick labels\n",
    "ticks = df['label'].unique()\n",
    "\n",
    "\n",
    "sns.heatmap(cfn_matrix, annot = True, xticklabels = ticks, yticklabels = ticks)\n",
    "plt.title('Confusion Matrix', fontsize=16)\n",
    "plt.xlabel('Predicted Labels', fontsize=14)\n",
    "plt.ylabel('True Labels', fontsize=14)"
   ]
  },
  {
   "cell_type": "code",
   "execution_count": null,
   "metadata": {},
   "outputs": [],
   "source": []
  },
  {
   "cell_type": "markdown",
   "metadata": {},
   "source": [
    "## 3 Seconds"
   ]
  },
  {
   "cell_type": "markdown",
   "metadata": {},
   "source": [
    "The steps we took in 30 seconds dataframe (or df dataframe), we repeat those same steps for 3 seconds csv/dataframe"
   ]
  },
  {
   "cell_type": "code",
   "execution_count": 14,
   "metadata": {},
   "outputs": [],
   "source": [
    "df_short = pd.read_csv('./data/features_3_sec.csv')\n",
    "\n",
    "# converting label columns into category data type\n",
    "df_short['label'] = df_short[\"label\"].astype('category')\n",
    "\n",
    "# drop all the columns except for mfcc_mean 1-20\n",
    "df_short1 = df_short.drop(df_short.iloc[:,:19],1)\n",
    "df_short1 = df_short1.drop(df_short1.iloc[:,1::2],1)\n",
    "\n",
    "# encode these labels\n",
    "df_short1['label'] = df_short1[\"label\"].cat.codes"
   ]
  },
  {
   "cell_type": "code",
   "execution_count": 15,
   "metadata": {},
   "outputs": [],
   "source": [
    "# shuffle data\n",
    "df_short1 = df_short1.sample(frac=1, random_state=0)"
   ]
  },
  {
   "cell_type": "code",
   "execution_count": 16,
   "metadata": {},
   "outputs": [],
   "source": [
    "# normalizing the data\n",
    "scaler = StandardScaler()\n",
    "\n",
    "X_short = df_short1[df_short1.columns[~df_short1.columns.isin(['label'])]].to_numpy()\n",
    "X_short = scaler.fit_transform(X_short)\n",
    "\n",
    "y_short = df_short1['label'].to_numpy()"
   ]
  },
  {
   "cell_type": "code",
   "execution_count": 17,
   "metadata": {},
   "outputs": [
    {
     "data": {
      "text/plain": [
       "((9990, 20), (9990,))"
      ]
     },
     "execution_count": 17,
     "metadata": {},
     "output_type": "execute_result"
    }
   ],
   "source": [
    "X_short.shape, y_short.shape"
   ]
  },
  {
   "cell_type": "code",
   "execution_count": 18,
   "metadata": {},
   "outputs": [],
   "source": [
    "# splitting dataset\n",
    "X_train1, X_test1, y_train1, y_test1 = train_test_split(X_short, y_short, test_size=0.30, random_state=0)"
   ]
  },
  {
   "cell_type": "code",
   "execution_count": 19,
   "metadata": {},
   "outputs": [
    {
     "name": "stdout",
     "output_type": "stream",
     "text": [
      "Fitting 10 folds for each of 174 candidates, totalling 1740 fits\n",
      "CPU times: user 3.86 s, sys: 555 ms, total: 4.42 s\n",
      "Wall time: 9min 11s\n"
     ]
    }
   ],
   "source": [
    "%%time\n",
    "# fitting our new data for training into our gridsearch\n",
    "best1 = clf.fit(X_train1, y_train1)"
   ]
  },
  {
   "cell_type": "code",
   "execution_count": 20,
   "metadata": {},
   "outputs": [
    {
     "name": "stdout",
     "output_type": "stream",
     "text": [
      "Our best model and params are {'classifier': KNeighborsClassifier(metric='euclidean', n_neighbors=1), 'classifier__metric': 'euclidean', 'classifier__n_neighbors': 1}\n"
     ]
    }
   ],
   "source": [
    "# best performing models and its hyperparameters\n",
    "print(f'Our best model and params are {best1.best_params_}')"
   ]
  },
  {
   "cell_type": "code",
   "execution_count": 21,
   "metadata": {},
   "outputs": [
    {
     "name": "stdout",
     "output_type": "stream",
     "text": [
      "Our Best accurracy score is 85.17%\n"
     ]
    }
   ],
   "source": [
    "# accuracy score according to the best performing model\n",
    "print(f'Our Best accurracy score is {round(best1.best_score_*100,2)}%')"
   ]
  },
  {
   "cell_type": "code",
   "execution_count": 22,
   "metadata": {},
   "outputs": [
    {
     "name": "stdout",
     "output_type": "stream",
     "text": [
      "              precision    recall  f1-score   support\n",
      "\n",
      "           0       0.94      0.88      0.91       312\n",
      "           1       0.90      0.93      0.91       275\n",
      "           2       0.82      0.75      0.78       280\n",
      "           3       0.82      0.85      0.83       290\n",
      "           4       0.89      0.88      0.89       319\n",
      "           5       0.83      0.84      0.84       302\n",
      "           6       0.92      0.96      0.94       320\n",
      "           7       0.90      0.88      0.89       307\n",
      "           8       0.87      0.87      0.87       311\n",
      "           9       0.78      0.81      0.80       281\n",
      "\n",
      "    accuracy                           0.87      2997\n",
      "   macro avg       0.87      0.87      0.87      2997\n",
      "weighted avg       0.87      0.87      0.87      2997\n",
      "\n"
     ]
    }
   ],
   "source": [
    "y_pred1 = best.predict(X_test1)\n",
    "print(classification_report(y_test1, y_pred1))"
   ]
  },
  {
   "cell_type": "code",
   "execution_count": 23,
   "metadata": {},
   "outputs": [
    {
     "data": {
      "text/plain": [
       "Text(48.453125, 0.5, 'True Labels')"
      ]
     },
     "execution_count": 23,
     "metadata": {},
     "output_type": "execute_result"
    },
    {
     "data": {
      "image/png": "[encoded data removed]",
      "text/plain": [
       "<Figure size 576x432 with 2 Axes>"
      ]
     },
     "metadata": {},
     "output_type": "display_data"
    }
   ],
   "source": [
    "# confusion matrix of 3 seconds dataframe\n",
    "fig = plt.figure(figsize=(8, 6))\n",
    "cfn_matrix1 = confusion_matrix(y_test1, y_pred1)\n",
    "\n",
    "sns.heatmap(cfn_matrix1, annot = True, xticklabels = ticks, yticklabels = ticks, fmt=\"d\")\n",
    "plt.title('Confusion Matrix', fontsize = 16)\n",
    "plt.xlabel('Predicted Labels', fontsize = 14)\n",
    "plt.ylabel('True Labels', fontsize = 14)"
   ]
  },
  {
   "cell_type": "code",
   "execution_count": null,
   "metadata": {},
   "outputs": [],
   "source": []
  }
 ],
 "metadata": {
  "kernelspec": {
   "display_name": "Python 3",
   "language": "python",
   "name": "python3"
  },
  "language_info": {
   "codemirror_mode": {
    "name": "ipython",
    "version": 3
   },
   "file_extension": ".py",
   "mimetype": "text/x-python",
   "name": "python",
   "nbconvert_exporter": "python",
   "pygments_lexer": "ipython3",
   "version": "3.8.5"
  }
 },
 "nbformat": 4,
 "nbformat_minor": 4
}
