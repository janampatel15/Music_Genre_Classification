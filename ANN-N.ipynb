{
 "cells": [
  {
   "cell_type": "markdown",
   "metadata": {},
   "source": [
    "# Artificial Neural Network\n",
    "In this file, we implement different ANN classification models to compare it with our Machine Learning and CNN models.\n",
    "\n",
    "We will run our ANN classification models on two csv files. The 30 seconds csv file containing audio features over for the whole audio, and 3 seconds csv contains audio feature at every 3 seconds intervals. "
   ]
  },
  {
   "cell_type": "code",
   "execution_count": 1,
   "metadata": {},
   "outputs": [
    {
     "name": "stderr",
     "output_type": "stream",
     "text": [
      "/Users/home/opt/anaconda3/lib/python3.8/site-packages/requests/__init__.py:89: RequestsDependencyWarning: urllib3 (1.26.9) or chardet (3.0.4) doesn't match a supported version!\n",
      "  warnings.warn(\"urllib3 ({}) or chardet ({}) doesn't match a supported \"\n"
     ]
    }
   ],
   "source": [
    "# important modules\n",
    "import numpy as np\n",
    "\n",
    "np.random.seed(0)\n",
    "import os\n",
    "import warnings\n",
    "\n",
    "import IPython.display as ipd\n",
    "import librosa\n",
    "import librosa.display\n",
    "import matplotlib.pyplot as plt\n",
    "import pandas as pd\n",
    "from nis_new_main_class import *\n",
    "from pandas_profiling import ProfileReport\n",
    "from sklearn.model_selection import train_test_split\n",
    "from tqdm import tqdm\n",
    "\n",
    "warnings.filterwarnings('ignore')\n",
    "import seaborn as sns\n",
    "\n",
    "sns.set()\n"
   ]
  },
  {
   "cell_type": "code",
   "execution_count": null,
   "metadata": {},
   "outputs": [],
   "source": []
  },
  {
   "cell_type": "markdown",
   "metadata": {},
   "source": [
    "## 30 Seconds"
   ]
  },
  {
   "cell_type": "code",
   "execution_count": 2,
   "metadata": {},
   "outputs": [
    {
     "data": {
      "text/html": [
       "<div>\n",
       "<style scoped>\n",
       "    .dataframe tbody tr th:only-of-type {\n",
       "        vertical-align: middle;\n",
       "    }\n",
       "\n",
       "    .dataframe tbody tr th {\n",
       "        vertical-align: top;\n",
       "    }\n",
       "\n",
       "    .dataframe thead th {\n",
       "        text-align: right;\n",
       "    }\n",
       "</style>\n",
       "<table border=\"1\" class=\"dataframe\">\n",
       "  <thead>\n",
       "    <tr style=\"text-align: right;\">\n",
       "      <th></th>\n",
       "      <th>filename</th>\n",
       "      <th>length</th>\n",
       "      <th>chroma_stft_mean</th>\n",
       "      <th>chroma_stft_var</th>\n",
       "      <th>rms_mean</th>\n",
       "      <th>rms_var</th>\n",
       "      <th>spectral_centroid_mean</th>\n",
       "      <th>spectral_centroid_var</th>\n",
       "      <th>spectral_bandwidth_mean</th>\n",
       "      <th>spectral_bandwidth_var</th>\n",
       "      <th>...</th>\n",
       "      <th>mfcc16_var</th>\n",
       "      <th>mfcc17_mean</th>\n",
       "      <th>mfcc17_var</th>\n",
       "      <th>mfcc18_mean</th>\n",
       "      <th>mfcc18_var</th>\n",
       "      <th>mfcc19_mean</th>\n",
       "      <th>mfcc19_var</th>\n",
       "      <th>mfcc20_mean</th>\n",
       "      <th>mfcc20_var</th>\n",
       "      <th>label</th>\n",
       "    </tr>\n",
       "  </thead>\n",
       "  <tbody>\n",
       "    <tr>\n",
       "      <th>0</th>\n",
       "      <td>blues.00000.wav</td>\n",
       "      <td>661794</td>\n",
       "      <td>0.350088</td>\n",
       "      <td>0.088757</td>\n",
       "      <td>0.130228</td>\n",
       "      <td>0.002827</td>\n",
       "      <td>1784.165850</td>\n",
       "      <td>129774.064525</td>\n",
       "      <td>2002.449060</td>\n",
       "      <td>85882.761315</td>\n",
       "      <td>...</td>\n",
       "      <td>52.420910</td>\n",
       "      <td>-1.690215</td>\n",
       "      <td>36.524071</td>\n",
       "      <td>-0.408979</td>\n",
       "      <td>41.597103</td>\n",
       "      <td>-2.303523</td>\n",
       "      <td>55.062923</td>\n",
       "      <td>1.221291</td>\n",
       "      <td>46.936035</td>\n",
       "      <td>blues</td>\n",
       "    </tr>\n",
       "    <tr>\n",
       "      <th>1</th>\n",
       "      <td>blues.00001.wav</td>\n",
       "      <td>661794</td>\n",
       "      <td>0.340914</td>\n",
       "      <td>0.094980</td>\n",
       "      <td>0.095948</td>\n",
       "      <td>0.002373</td>\n",
       "      <td>1530.176679</td>\n",
       "      <td>375850.073649</td>\n",
       "      <td>2039.036516</td>\n",
       "      <td>213843.755497</td>\n",
       "      <td>...</td>\n",
       "      <td>55.356403</td>\n",
       "      <td>-0.731125</td>\n",
       "      <td>60.314529</td>\n",
       "      <td>0.295073</td>\n",
       "      <td>48.120598</td>\n",
       "      <td>-0.283518</td>\n",
       "      <td>51.106190</td>\n",
       "      <td>0.531217</td>\n",
       "      <td>45.786282</td>\n",
       "      <td>blues</td>\n",
       "    </tr>\n",
       "    <tr>\n",
       "      <th>2</th>\n",
       "      <td>blues.00002.wav</td>\n",
       "      <td>661794</td>\n",
       "      <td>0.363637</td>\n",
       "      <td>0.085275</td>\n",
       "      <td>0.175570</td>\n",
       "      <td>0.002746</td>\n",
       "      <td>1552.811865</td>\n",
       "      <td>156467.643368</td>\n",
       "      <td>1747.702312</td>\n",
       "      <td>76254.192257</td>\n",
       "      <td>...</td>\n",
       "      <td>40.598766</td>\n",
       "      <td>-7.729093</td>\n",
       "      <td>47.639427</td>\n",
       "      <td>-1.816407</td>\n",
       "      <td>52.382141</td>\n",
       "      <td>-3.439720</td>\n",
       "      <td>46.639660</td>\n",
       "      <td>-2.231258</td>\n",
       "      <td>30.573025</td>\n",
       "      <td>blues</td>\n",
       "    </tr>\n",
       "    <tr>\n",
       "      <th>3</th>\n",
       "      <td>blues.00003.wav</td>\n",
       "      <td>661794</td>\n",
       "      <td>0.404785</td>\n",
       "      <td>0.093999</td>\n",
       "      <td>0.141093</td>\n",
       "      <td>0.006346</td>\n",
       "      <td>1070.106615</td>\n",
       "      <td>184355.942417</td>\n",
       "      <td>1596.412872</td>\n",
       "      <td>166441.494769</td>\n",
       "      <td>...</td>\n",
       "      <td>44.427753</td>\n",
       "      <td>-3.319597</td>\n",
       "      <td>50.206673</td>\n",
       "      <td>0.636965</td>\n",
       "      <td>37.319130</td>\n",
       "      <td>-0.619121</td>\n",
       "      <td>37.259739</td>\n",
       "      <td>-3.407448</td>\n",
       "      <td>31.949339</td>\n",
       "      <td>blues</td>\n",
       "    </tr>\n",
       "    <tr>\n",
       "      <th>4</th>\n",
       "      <td>blues.00004.wav</td>\n",
       "      <td>661794</td>\n",
       "      <td>0.308526</td>\n",
       "      <td>0.087841</td>\n",
       "      <td>0.091529</td>\n",
       "      <td>0.002303</td>\n",
       "      <td>1835.004266</td>\n",
       "      <td>343399.939274</td>\n",
       "      <td>1748.172116</td>\n",
       "      <td>88445.209036</td>\n",
       "      <td>...</td>\n",
       "      <td>86.099236</td>\n",
       "      <td>-5.454034</td>\n",
       "      <td>75.269707</td>\n",
       "      <td>-0.916874</td>\n",
       "      <td>53.613918</td>\n",
       "      <td>-4.404827</td>\n",
       "      <td>62.910812</td>\n",
       "      <td>-11.703234</td>\n",
       "      <td>55.195160</td>\n",
       "      <td>blues</td>\n",
       "    </tr>\n",
       "  </tbody>\n",
       "</table>\n",
       "<p>5 rows × 60 columns</p>\n",
       "</div>"
      ],
      "text/plain": [
       "          filename  length  chroma_stft_mean  chroma_stft_var  rms_mean  \\\n",
       "0  blues.00000.wav  661794          0.350088         0.088757  0.130228   \n",
       "1  blues.00001.wav  661794          0.340914         0.094980  0.095948   \n",
       "2  blues.00002.wav  661794          0.363637         0.085275  0.175570   \n",
       "3  blues.00003.wav  661794          0.404785         0.093999  0.141093   \n",
       "4  blues.00004.wav  661794          0.308526         0.087841  0.091529   \n",
       "\n",
       "    rms_var  spectral_centroid_mean  spectral_centroid_var  \\\n",
       "0  0.002827             1784.165850          129774.064525   \n",
       "1  0.002373             1530.176679          375850.073649   \n",
       "2  0.002746             1552.811865          156467.643368   \n",
       "3  0.006346             1070.106615          184355.942417   \n",
       "4  0.002303             1835.004266          343399.939274   \n",
       "\n",
       "   spectral_bandwidth_mean  spectral_bandwidth_var  ...  mfcc16_var  \\\n",
       "0              2002.449060            85882.761315  ...   52.420910   \n",
       "1              2039.036516           213843.755497  ...   55.356403   \n",
       "2              1747.702312            76254.192257  ...   40.598766   \n",
       "3              1596.412872           166441.494769  ...   44.427753   \n",
       "4              1748.172116            88445.209036  ...   86.099236   \n",
       "\n",
       "   mfcc17_mean  mfcc17_var  mfcc18_mean  mfcc18_var  mfcc19_mean  mfcc19_var  \\\n",
       "0    -1.690215   36.524071    -0.408979   41.597103    -2.303523   55.062923   \n",
       "1    -0.731125   60.314529     0.295073   48.120598    -0.283518   51.106190   \n",
       "2    -7.729093   47.639427    -1.816407   52.382141    -3.439720   46.639660   \n",
       "3    -3.319597   50.206673     0.636965   37.319130    -0.619121   37.259739   \n",
       "4    -5.454034   75.269707    -0.916874   53.613918    -4.404827   62.910812   \n",
       "\n",
       "   mfcc20_mean  mfcc20_var  label  \n",
       "0     1.221291   46.936035  blues  \n",
       "1     0.531217   45.786282  blues  \n",
       "2    -2.231258   30.573025  blues  \n",
       "3    -3.407448   31.949339  blues  \n",
       "4   -11.703234   55.195160  blues  \n",
       "\n",
       "[5 rows x 60 columns]"
      ]
     },
     "execution_count": 2,
     "metadata": {},
     "output_type": "execute_result"
    }
   ],
   "source": [
    "df = pd.read_csv('./data/features_30_sec.csv')\n",
    "df.head()"
   ]
  },
  {
   "cell_type": "code",
   "execution_count": 3,
   "metadata": {},
   "outputs": [],
   "source": [
    "df['label'] = df[\"label\"].astype('category')\n",
    "df['label'] = df[\"label\"].cat.codes"
   ]
  },
  {
   "cell_type": "code",
   "execution_count": 4,
   "metadata": {},
   "outputs": [],
   "source": [
    "df1 = df.drop(df.iloc[:, :19], 1)\n",
    "df1 = df1.drop(df1.iloc[:, 1::2], 1)"
   ]
  },
  {
   "cell_type": "code",
   "execution_count": 5,
   "metadata": {},
   "outputs": [
    {
     "data": {
      "text/html": [
       "<div>\n",
       "<style scoped>\n",
       "    .dataframe tbody tr th:only-of-type {\n",
       "        vertical-align: middle;\n",
       "    }\n",
       "\n",
       "    .dataframe tbody tr th {\n",
       "        vertical-align: top;\n",
       "    }\n",
       "\n",
       "    .dataframe thead th {\n",
       "        text-align: right;\n",
       "    }\n",
       "</style>\n",
       "<table border=\"1\" class=\"dataframe\">\n",
       "  <thead>\n",
       "    <tr style=\"text-align: right;\">\n",
       "      <th></th>\n",
       "      <th>mfcc1_mean</th>\n",
       "      <th>mfcc2_mean</th>\n",
       "      <th>mfcc3_mean</th>\n",
       "      <th>mfcc4_mean</th>\n",
       "      <th>mfcc5_mean</th>\n",
       "      <th>mfcc6_mean</th>\n",
       "      <th>mfcc7_mean</th>\n",
       "      <th>mfcc8_mean</th>\n",
       "      <th>mfcc9_mean</th>\n",
       "      <th>mfcc10_mean</th>\n",
       "      <th>...</th>\n",
       "      <th>mfcc12_mean</th>\n",
       "      <th>mfcc13_mean</th>\n",
       "      <th>mfcc14_mean</th>\n",
       "      <th>mfcc15_mean</th>\n",
       "      <th>mfcc16_mean</th>\n",
       "      <th>mfcc17_mean</th>\n",
       "      <th>mfcc18_mean</th>\n",
       "      <th>mfcc19_mean</th>\n",
       "      <th>mfcc20_mean</th>\n",
       "      <th>label</th>\n",
       "    </tr>\n",
       "  </thead>\n",
       "  <tbody>\n",
       "    <tr>\n",
       "      <th>0</th>\n",
       "      <td>-113.570648</td>\n",
       "      <td>121.571793</td>\n",
       "      <td>-19.168142</td>\n",
       "      <td>42.366421</td>\n",
       "      <td>-6.364664</td>\n",
       "      <td>18.623499</td>\n",
       "      <td>-13.704891</td>\n",
       "      <td>15.343150</td>\n",
       "      <td>-12.274110</td>\n",
       "      <td>10.976572</td>\n",
       "      <td>...</td>\n",
       "      <td>8.803792</td>\n",
       "      <td>-3.672300</td>\n",
       "      <td>5.747995</td>\n",
       "      <td>-5.162882</td>\n",
       "      <td>0.752740</td>\n",
       "      <td>-1.690215</td>\n",
       "      <td>-0.408979</td>\n",
       "      <td>-2.303523</td>\n",
       "      <td>1.221291</td>\n",
       "      <td>0</td>\n",
       "    </tr>\n",
       "    <tr>\n",
       "      <th>1</th>\n",
       "      <td>-207.501694</td>\n",
       "      <td>123.991264</td>\n",
       "      <td>8.955127</td>\n",
       "      <td>35.877647</td>\n",
       "      <td>2.907320</td>\n",
       "      <td>21.510466</td>\n",
       "      <td>-8.560436</td>\n",
       "      <td>23.370686</td>\n",
       "      <td>-10.099661</td>\n",
       "      <td>11.900497</td>\n",
       "      <td>...</td>\n",
       "      <td>5.376327</td>\n",
       "      <td>-2.231760</td>\n",
       "      <td>4.220140</td>\n",
       "      <td>-6.012148</td>\n",
       "      <td>0.927998</td>\n",
       "      <td>-0.731125</td>\n",
       "      <td>0.295073</td>\n",
       "      <td>-0.283518</td>\n",
       "      <td>0.531217</td>\n",
       "      <td>0</td>\n",
       "    </tr>\n",
       "    <tr>\n",
       "      <th>2</th>\n",
       "      <td>-90.722595</td>\n",
       "      <td>140.446304</td>\n",
       "      <td>-29.093889</td>\n",
       "      <td>31.684334</td>\n",
       "      <td>-13.984504</td>\n",
       "      <td>25.764742</td>\n",
       "      <td>-13.664875</td>\n",
       "      <td>11.639934</td>\n",
       "      <td>-11.783643</td>\n",
       "      <td>9.718760</td>\n",
       "      <td>...</td>\n",
       "      <td>5.791199</td>\n",
       "      <td>-8.907628</td>\n",
       "      <td>-1.077000</td>\n",
       "      <td>-9.229274</td>\n",
       "      <td>2.451690</td>\n",
       "      <td>-7.729093</td>\n",
       "      <td>-1.816407</td>\n",
       "      <td>-3.439720</td>\n",
       "      <td>-2.231258</td>\n",
       "      <td>0</td>\n",
       "    </tr>\n",
       "    <tr>\n",
       "      <th>3</th>\n",
       "      <td>-199.544205</td>\n",
       "      <td>150.090897</td>\n",
       "      <td>5.662678</td>\n",
       "      <td>26.859079</td>\n",
       "      <td>1.771399</td>\n",
       "      <td>14.234031</td>\n",
       "      <td>-4.832006</td>\n",
       "      <td>9.286494</td>\n",
       "      <td>-0.759186</td>\n",
       "      <td>8.137607</td>\n",
       "      <td>...</td>\n",
       "      <td>6.079319</td>\n",
       "      <td>-2.480174</td>\n",
       "      <td>-1.079305</td>\n",
       "      <td>-2.870789</td>\n",
       "      <td>0.780874</td>\n",
       "      <td>-3.319597</td>\n",
       "      <td>0.636965</td>\n",
       "      <td>-0.619121</td>\n",
       "      <td>-3.407448</td>\n",
       "      <td>0</td>\n",
       "    </tr>\n",
       "    <tr>\n",
       "      <th>4</th>\n",
       "      <td>-160.337708</td>\n",
       "      <td>126.219635</td>\n",
       "      <td>-35.587811</td>\n",
       "      <td>22.148071</td>\n",
       "      <td>-32.478600</td>\n",
       "      <td>10.852294</td>\n",
       "      <td>-23.352329</td>\n",
       "      <td>0.498434</td>\n",
       "      <td>-11.793437</td>\n",
       "      <td>1.207256</td>\n",
       "      <td>...</td>\n",
       "      <td>-2.813867</td>\n",
       "      <td>-6.933385</td>\n",
       "      <td>-7.552725</td>\n",
       "      <td>-9.164666</td>\n",
       "      <td>-4.520576</td>\n",
       "      <td>-5.454034</td>\n",
       "      <td>-0.916874</td>\n",
       "      <td>-4.404827</td>\n",
       "      <td>-11.703234</td>\n",
       "      <td>0</td>\n",
       "    </tr>\n",
       "  </tbody>\n",
       "</table>\n",
       "<p>5 rows × 21 columns</p>\n",
       "</div>"
      ],
      "text/plain": [
       "   mfcc1_mean  mfcc2_mean  mfcc3_mean  mfcc4_mean  mfcc5_mean  mfcc6_mean  \\\n",
       "0 -113.570648  121.571793  -19.168142   42.366421   -6.364664   18.623499   \n",
       "1 -207.501694  123.991264    8.955127   35.877647    2.907320   21.510466   \n",
       "2  -90.722595  140.446304  -29.093889   31.684334  -13.984504   25.764742   \n",
       "3 -199.544205  150.090897    5.662678   26.859079    1.771399   14.234031   \n",
       "4 -160.337708  126.219635  -35.587811   22.148071  -32.478600   10.852294   \n",
       "\n",
       "   mfcc7_mean  mfcc8_mean  mfcc9_mean  mfcc10_mean  ...  mfcc12_mean  \\\n",
       "0  -13.704891   15.343150  -12.274110    10.976572  ...     8.803792   \n",
       "1   -8.560436   23.370686  -10.099661    11.900497  ...     5.376327   \n",
       "2  -13.664875   11.639934  -11.783643     9.718760  ...     5.791199   \n",
       "3   -4.832006    9.286494   -0.759186     8.137607  ...     6.079319   \n",
       "4  -23.352329    0.498434  -11.793437     1.207256  ...    -2.813867   \n",
       "\n",
       "   mfcc13_mean  mfcc14_mean  mfcc15_mean  mfcc16_mean  mfcc17_mean  \\\n",
       "0    -3.672300     5.747995    -5.162882     0.752740    -1.690215   \n",
       "1    -2.231760     4.220140    -6.012148     0.927998    -0.731125   \n",
       "2    -8.907628    -1.077000    -9.229274     2.451690    -7.729093   \n",
       "3    -2.480174    -1.079305    -2.870789     0.780874    -3.319597   \n",
       "4    -6.933385    -7.552725    -9.164666    -4.520576    -5.454034   \n",
       "\n",
       "   mfcc18_mean  mfcc19_mean  mfcc20_mean  label  \n",
       "0    -0.408979    -2.303523     1.221291      0  \n",
       "1     0.295073    -0.283518     0.531217      0  \n",
       "2    -1.816407    -3.439720    -2.231258      0  \n",
       "3     0.636965    -0.619121    -3.407448      0  \n",
       "4    -0.916874    -4.404827   -11.703234      0  \n",
       "\n",
       "[5 rows x 21 columns]"
      ]
     },
     "execution_count": 5,
     "metadata": {},
     "output_type": "execute_result"
    }
   ],
   "source": [
    "df1.head()"
   ]
  },
  {
   "cell_type": "code",
   "execution_count": 6,
   "metadata": {},
   "outputs": [],
   "source": [
    "# goood to see if there is any major correlation, nulls or any other key factors that we might miss\n",
    "df_profile = df1[df1.columns[~df1.columns.isin(['label'])]]\n",
    "\n",
    "# When ran the below commented line, the file is big (50 MB) so careful when opening/running it\n",
    "# profile = ProfileReport(df_profiel)\n",
    "\n",
    "# line below does about the same job, except it leaves our the scatter matrix between each feature\n",
    "# allowing us to have smaller report html file.\n",
    "profile = ProfileReport(df_profile, interactions={'continuous': False})"
   ]
  },
  {
   "cell_type": "code",
   "execution_count": 7,
   "metadata": {},
   "outputs": [
    {
     "data": {
      "application/vnd.jupyter.widget-view+json": {
       "model_id": "65acdf9b54c14c9a9ffe48ee21b71363",
       "version_major": 2,
       "version_minor": 0
      },
      "text/plain": [
       "Summarize dataset:   0%|          | 0/33 [00:00<?, ?it/s]"
      ]
     },
     "metadata": {},
     "output_type": "display_data"
    },
    {
     "data": {
      "application/vnd.jupyter.widget-view+json": {
       "model_id": "a802227ee8564ee6aa745a9d7ed3d71b",
       "version_major": 2,
       "version_minor": 0
      },
      "text/plain": [
       "Generate report structure:   0%|          | 0/1 [00:00<?, ?it/s]"
      ]
     },
     "metadata": {},
     "output_type": "display_data"
    },
    {
     "data": {
      "application/vnd.jupyter.widget-view+json": {
       "model_id": "b54fa36cb4ad43a88b413cefb97441cf",
       "version_major": 2,
       "version_minor": 0
      },
      "text/plain": [
       "Render HTML:   0%|          | 0/1 [00:00<?, ?it/s]"
      ]
     },
     "metadata": {},
     "output_type": "display_data"
    },
    {
     "data": {
      "application/vnd.jupyter.widget-view+json": {
       "model_id": "f00226a566e84353b29374e5ff7482c9",
       "version_major": 2,
       "version_minor": 0
      },
      "text/plain": [
       "Export report to file:   0%|          | 0/1 [00:00<?, ?it/s]"
      ]
     },
     "metadata": {},
     "output_type": "display_data"
    }
   ],
   "source": [
    "profile.to_file(\"30sec_report.html\")"
   ]
  },
  {
   "cell_type": "code",
   "execution_count": null,
   "metadata": {},
   "outputs": [],
   "source": []
  },
  {
   "cell_type": "code",
   "execution_count": null,
   "metadata": {},
   "outputs": [],
   "source": []
  },
  {
   "cell_type": "markdown",
   "metadata": {},
   "source": [
    "#### Reason for Duplicates\n",
    "From the report generated above or [here](30sec_report.html), we see that we don't have nulls, but we do have some duplicates, it could be because a lot of mfcc features differ mostly in thousandth place or after, so alot of decimal places do end up matching which gives us duplicates. Also, there are only 7 signals with each having 1 duplicate, giving us 7 duplicates out of 1000, so not too bad."
   ]
  },
  {
   "cell_type": "code",
   "execution_count": 7,
   "metadata": {},
   "outputs": [],
   "source": [
    "# We will shuffle dataframe even though we have train_test_split, just to be on the safe side.\n",
    "df1 = df1.sample(frac=1,random_state=0)"
   ]
  },
  {
   "cell_type": "code",
   "execution_count": 8,
   "metadata": {},
   "outputs": [],
   "source": [
    "# First seperating features and labels\n",
    "# X = Features\n",
    "# y = labels\n",
    "X = df1[df1.columns[~df1.columns.isin(['label'])]].to_numpy()\n",
    "y = df1['label'].to_numpy()"
   ]
  },
  {
   "cell_type": "code",
   "execution_count": 9,
   "metadata": {},
   "outputs": [],
   "source": [
    "# split the dataset wiht 30% set aside for the testing purpose, and random_state set to 0, \n",
    "# for same reproducibility\n",
    "X_train, X_test, y_train, y_test = train_test_split(X, y, test_size=0.30, random_state=0)"
   ]
  },
  {
   "cell_type": "code",
   "execution_count": 10,
   "metadata": {},
   "outputs": [
    {
     "data": {
      "text/plain": [
       "((700, 20), (700,))"
      ]
     },
     "execution_count": 10,
     "metadata": {},
     "output_type": "execute_result"
    }
   ],
   "source": [
    "X_train.shape, y_train.shape"
   ]
  },
  {
   "cell_type": "code",
   "execution_count": 11,
   "metadata": {},
   "outputs": [],
   "source": [
    "# one hot encoding our labels\n",
    "y_true_train = one_hot(y_train, 10)\n",
    "y_true_test = one_hot(y_test, 10)"
   ]
  },
  {
   "cell_type": "code",
   "execution_count": 21,
   "metadata": {},
   "outputs": [],
   "source": [
    "# creating layers to pass it into our models\n",
    "# we change layers here depending on what we want to pass in our model\n",
    "outs=160\n",
    "outs1=80\n",
    "outs2=40\n",
    "outs3=20\n",
    "\n",
    "lay_train = [\n",
    "    InputLayer(X_train),\n",
    "    FullyConnectedLayer(len(X_train[0]), outs),\n",
    "    ReLuLayer(),\n",
    "    FullyConnectedLayer(outs, outs1),\n",
    "    ReLuLayer(),\n",
    "    FullyConnectedLayer(outs1, outs2),\n",
    "    ReLuLayer(),\n",
    "    FullyConnectedLayer(outs2, outs3),\n",
    "    ReLuLayer(),\n",
    "    FullyConnectedLayer(outs3, 10),\n",
    "    SoftmaxLayer(),\n",
    "    CrossEntropy()\n",
    "]\n",
    "\n",
    "layers_val = [\n",
    "    InputLayer(X_test),\n",
    "    FullyConnectedLayer(len(X_test[0]), outs),\n",
    "    ReLuLayer(),\n",
    "    FullyConnectedLayer(outs, outs1),\n",
    "    ReLuLayer(),\n",
    "    FullyConnectedLayer(outs1, outs2),\n",
    "    ReLuLayer(),\n",
    "    FullyConnectedLayer(outs2, outs3),\n",
    "    ReLuLayer(),\n",
    "    FullyConnectedLayer(outs3, 10),\n",
    "    SoftmaxLayer(),\n",
    "    CrossEntropy()\n",
    "]"
   ]
  },
  {
   "cell_type": "code",
   "execution_count": 23,
   "metadata": {
    "scrolled": true
   },
   "outputs": [
    {
     "name": "stderr",
     "output_type": "stream",
     "text": [
      "100%|██████████| 100/100 [00:31<00:00,  3.13it/s]\n"
     ]
    }
   ],
   "source": [
    "# running those given layers with our model function with specific given eta and epochs\n",
    "# the eta and epochs shown below aren't final and are just shown as a demo to check if code works correctly\n",
    "\n",
    "ll_train,y_pred_train,ll_val,y_pred_val,acc_train,acc_val, epochs, \\\n",
    "eta = model(X_train,y_train,X_test,y_test,lay_train, layers_val, eta=0.001, epochs=1000)\n",
    "\n",
    "ll_train1,y_pred_train1,ll_val1,y_pred_val1,acc_train1,acc_val1, epochs1, \\\n",
    "eta1 = model(X_train,y_train,X_test,y_test,lay_train, layers_val, eta=0.001, epochs=1000)\n",
    "\n",
    "ll_train2,y_pred_train2,ll_val2,y_pred_val2,acc_train2,acc_val2, epochs2, \\\n",
    "eta2 = model(X_train,y_train,X_test,y_test,lay_train, layers_val, eta=0.03, epochs=100)"
   ]
  },
  {
   "cell_type": "code",
   "execution_count": 46,
   "metadata": {},
   "outputs": [
    {
     "name": "stdout",
     "output_type": "stream",
     "text": [
      "When we train and test our model with 30 seconds dataframe\n",
      "\n",
      "When epochs = 1000 and eta = 0.001:\n",
      "Training Accuracy: 96.91%, Testing Accuracy: 90.2%\n",
      "\n",
      "When epochs = 1000 and eta = 0.001:\n",
      "Training Accuracy: 98.0%, Testing Accuracy: 90.0%\n"
     ]
    }
   ],
   "source": [
    "# the graphs and accuracy you see below aren't the final ones we chose, \n",
    "# these are just demo runs to check if our code works fine\n",
    "\n",
    "print('When we train and test our model with 30 seconds dataframe')\n",
    "print()\n",
    "print(f'When epochs = {epochs} and eta = {eta}:')\n",
    "print(f'Training Accuracy: {round(acc_train[-1],2)}%, Testing Accuracy: {round(acc_val[-1],2)}%')\n",
    "print()\n",
    "print(f'When epochs = {epochs1} and eta = {eta1}:')\n",
    "print(f'Training Accuracy: {round(acc_train1[-1],2)}%, Testing Accuracy: {round(acc_val1[-1],2)}%')"
   ]
  },
  {
   "cell_type": "code",
   "execution_count": 24,
   "metadata": {},
   "outputs": [
    {
     "data": {
      "image/png": "[encoded data removed]",
      "text/plain": [
       "<Figure size 720x720 with 6 Axes>"
      ]
     },
     "metadata": {},
     "output_type": "display_data"
    }
   ],
   "source": [
    "alls = [\n",
    "    ll_train,ll_val,acc_train, acc_val,epochs, eta,\n",
    "    ll_train1,ll_val1,acc_train1, acc_val1,epochs1, eta1,\n",
    "    ll_train2,ll_val2,acc_train2, acc_val2,epochs2, eta2    \n",
    "]\n",
    "\n",
    "fig = plt.figure()\n",
    "fig.set_size_inches(10,10)\n",
    "\n",
    "create_graphs(alls,3,2)\n",
    "fig.savefig('30_sec.png')"
   ]
  },
  {
   "cell_type": "code",
   "execution_count": null,
   "metadata": {},
   "outputs": [],
   "source": []
  },
  {
   "cell_type": "code",
   "execution_count": null,
   "metadata": {},
   "outputs": [],
   "source": []
  },
  {
   "cell_type": "markdown",
   "metadata": {},
   "source": [
    "## 3 seconds\n",
    "We will repeat same steps as we did for 30 seconds csv (dataframe)"
   ]
  },
  {
   "cell_type": "code",
   "execution_count": 25,
   "metadata": {},
   "outputs": [
    {
     "data": {
      "text/html": [
       "<div>\n",
       "<style scoped>\n",
       "    .dataframe tbody tr th:only-of-type {\n",
       "        vertical-align: middle;\n",
       "    }\n",
       "\n",
       "    .dataframe tbody tr th {\n",
       "        vertical-align: top;\n",
       "    }\n",
       "\n",
       "    .dataframe thead th {\n",
       "        text-align: right;\n",
       "    }\n",
       "</style>\n",
       "<table border=\"1\" class=\"dataframe\">\n",
       "  <thead>\n",
       "    <tr style=\"text-align: right;\">\n",
       "      <th></th>\n",
       "      <th>filename</th>\n",
       "      <th>length</th>\n",
       "      <th>chroma_stft_mean</th>\n",
       "      <th>chroma_stft_var</th>\n",
       "      <th>rms_mean</th>\n",
       "      <th>rms_var</th>\n",
       "      <th>spectral_centroid_mean</th>\n",
       "      <th>spectral_centroid_var</th>\n",
       "      <th>spectral_bandwidth_mean</th>\n",
       "      <th>spectral_bandwidth_var</th>\n",
       "      <th>...</th>\n",
       "      <th>mfcc16_var</th>\n",
       "      <th>mfcc17_mean</th>\n",
       "      <th>mfcc17_var</th>\n",
       "      <th>mfcc18_mean</th>\n",
       "      <th>mfcc18_var</th>\n",
       "      <th>mfcc19_mean</th>\n",
       "      <th>mfcc19_var</th>\n",
       "      <th>mfcc20_mean</th>\n",
       "      <th>mfcc20_var</th>\n",
       "      <th>label</th>\n",
       "    </tr>\n",
       "  </thead>\n",
       "  <tbody>\n",
       "    <tr>\n",
       "      <th>0</th>\n",
       "      <td>blues.00000.0.wav</td>\n",
       "      <td>66149</td>\n",
       "      <td>0.335406</td>\n",
       "      <td>0.091048</td>\n",
       "      <td>0.130405</td>\n",
       "      <td>0.003521</td>\n",
       "      <td>1773.065032</td>\n",
       "      <td>167541.630869</td>\n",
       "      <td>1972.744388</td>\n",
       "      <td>117335.771563</td>\n",
       "      <td>...</td>\n",
       "      <td>39.687145</td>\n",
       "      <td>-3.241280</td>\n",
       "      <td>36.488243</td>\n",
       "      <td>0.722209</td>\n",
       "      <td>38.099152</td>\n",
       "      <td>-5.050335</td>\n",
       "      <td>33.618073</td>\n",
       "      <td>-0.243027</td>\n",
       "      <td>43.771767</td>\n",
       "      <td>blues</td>\n",
       "    </tr>\n",
       "    <tr>\n",
       "      <th>1</th>\n",
       "      <td>blues.00000.1.wav</td>\n",
       "      <td>66149</td>\n",
       "      <td>0.343065</td>\n",
       "      <td>0.086147</td>\n",
       "      <td>0.112699</td>\n",
       "      <td>0.001450</td>\n",
       "      <td>1816.693777</td>\n",
       "      <td>90525.690866</td>\n",
       "      <td>2010.051501</td>\n",
       "      <td>65671.875673</td>\n",
       "      <td>...</td>\n",
       "      <td>64.748276</td>\n",
       "      <td>-6.055294</td>\n",
       "      <td>40.677654</td>\n",
       "      <td>0.159015</td>\n",
       "      <td>51.264091</td>\n",
       "      <td>-2.837699</td>\n",
       "      <td>97.030830</td>\n",
       "      <td>5.784063</td>\n",
       "      <td>59.943081</td>\n",
       "      <td>blues</td>\n",
       "    </tr>\n",
       "    <tr>\n",
       "      <th>2</th>\n",
       "      <td>blues.00000.2.wav</td>\n",
       "      <td>66149</td>\n",
       "      <td>0.346815</td>\n",
       "      <td>0.092243</td>\n",
       "      <td>0.132003</td>\n",
       "      <td>0.004620</td>\n",
       "      <td>1788.539719</td>\n",
       "      <td>111407.437613</td>\n",
       "      <td>2084.565132</td>\n",
       "      <td>75124.921716</td>\n",
       "      <td>...</td>\n",
       "      <td>67.336563</td>\n",
       "      <td>-1.768610</td>\n",
       "      <td>28.348579</td>\n",
       "      <td>2.378768</td>\n",
       "      <td>45.717648</td>\n",
       "      <td>-1.938424</td>\n",
       "      <td>53.050835</td>\n",
       "      <td>2.517375</td>\n",
       "      <td>33.105122</td>\n",
       "      <td>blues</td>\n",
       "    </tr>\n",
       "    <tr>\n",
       "      <th>3</th>\n",
       "      <td>blues.00000.3.wav</td>\n",
       "      <td>66149</td>\n",
       "      <td>0.363639</td>\n",
       "      <td>0.086856</td>\n",
       "      <td>0.132565</td>\n",
       "      <td>0.002448</td>\n",
       "      <td>1655.289045</td>\n",
       "      <td>111952.284517</td>\n",
       "      <td>1960.039988</td>\n",
       "      <td>82913.639269</td>\n",
       "      <td>...</td>\n",
       "      <td>47.739452</td>\n",
       "      <td>-3.841155</td>\n",
       "      <td>28.337118</td>\n",
       "      <td>1.218588</td>\n",
       "      <td>34.770935</td>\n",
       "      <td>-3.580352</td>\n",
       "      <td>50.836224</td>\n",
       "      <td>3.630866</td>\n",
       "      <td>32.023678</td>\n",
       "      <td>blues</td>\n",
       "    </tr>\n",
       "    <tr>\n",
       "      <th>4</th>\n",
       "      <td>blues.00000.4.wav</td>\n",
       "      <td>66149</td>\n",
       "      <td>0.335579</td>\n",
       "      <td>0.088129</td>\n",
       "      <td>0.143289</td>\n",
       "      <td>0.001701</td>\n",
       "      <td>1630.656199</td>\n",
       "      <td>79667.267654</td>\n",
       "      <td>1948.503884</td>\n",
       "      <td>60204.020268</td>\n",
       "      <td>...</td>\n",
       "      <td>30.336359</td>\n",
       "      <td>0.664582</td>\n",
       "      <td>45.880913</td>\n",
       "      <td>1.689446</td>\n",
       "      <td>51.363583</td>\n",
       "      <td>-3.392489</td>\n",
       "      <td>26.738789</td>\n",
       "      <td>0.536961</td>\n",
       "      <td>29.146694</td>\n",
       "      <td>blues</td>\n",
       "    </tr>\n",
       "    <tr>\n",
       "      <th>...</th>\n",
       "      <td>...</td>\n",
       "      <td>...</td>\n",
       "      <td>...</td>\n",
       "      <td>...</td>\n",
       "      <td>...</td>\n",
       "      <td>...</td>\n",
       "      <td>...</td>\n",
       "      <td>...</td>\n",
       "      <td>...</td>\n",
       "      <td>...</td>\n",
       "      <td>...</td>\n",
       "      <td>...</td>\n",
       "      <td>...</td>\n",
       "      <td>...</td>\n",
       "      <td>...</td>\n",
       "      <td>...</td>\n",
       "      <td>...</td>\n",
       "      <td>...</td>\n",
       "      <td>...</td>\n",
       "      <td>...</td>\n",
       "      <td>...</td>\n",
       "    </tr>\n",
       "    <tr>\n",
       "      <th>9985</th>\n",
       "      <td>rock.00099.5.wav</td>\n",
       "      <td>66149</td>\n",
       "      <td>0.349126</td>\n",
       "      <td>0.080515</td>\n",
       "      <td>0.050019</td>\n",
       "      <td>0.000097</td>\n",
       "      <td>1499.083005</td>\n",
       "      <td>164266.886443</td>\n",
       "      <td>1718.707215</td>\n",
       "      <td>85931.574523</td>\n",
       "      <td>...</td>\n",
       "      <td>42.485981</td>\n",
       "      <td>-9.094270</td>\n",
       "      <td>38.326839</td>\n",
       "      <td>-4.246976</td>\n",
       "      <td>31.049839</td>\n",
       "      <td>-5.625813</td>\n",
       "      <td>48.804092</td>\n",
       "      <td>1.818823</td>\n",
       "      <td>38.966969</td>\n",
       "      <td>rock</td>\n",
       "    </tr>\n",
       "    <tr>\n",
       "      <th>9986</th>\n",
       "      <td>rock.00099.6.wav</td>\n",
       "      <td>66149</td>\n",
       "      <td>0.372564</td>\n",
       "      <td>0.082626</td>\n",
       "      <td>0.057897</td>\n",
       "      <td>0.000088</td>\n",
       "      <td>1847.965128</td>\n",
       "      <td>281054.935973</td>\n",
       "      <td>1906.468492</td>\n",
       "      <td>99727.037054</td>\n",
       "      <td>...</td>\n",
       "      <td>32.415203</td>\n",
       "      <td>-12.375726</td>\n",
       "      <td>66.418587</td>\n",
       "      <td>-3.081278</td>\n",
       "      <td>54.414265</td>\n",
       "      <td>-11.960546</td>\n",
       "      <td>63.452255</td>\n",
       "      <td>0.428857</td>\n",
       "      <td>18.697033</td>\n",
       "      <td>rock</td>\n",
       "    </tr>\n",
       "    <tr>\n",
       "      <th>9987</th>\n",
       "      <td>rock.00099.7.wav</td>\n",
       "      <td>66149</td>\n",
       "      <td>0.347481</td>\n",
       "      <td>0.089019</td>\n",
       "      <td>0.052403</td>\n",
       "      <td>0.000701</td>\n",
       "      <td>1346.157659</td>\n",
       "      <td>662956.246325</td>\n",
       "      <td>1561.859087</td>\n",
       "      <td>138762.841945</td>\n",
       "      <td>...</td>\n",
       "      <td>78.228149</td>\n",
       "      <td>-2.524483</td>\n",
       "      <td>21.778994</td>\n",
       "      <td>4.809936</td>\n",
       "      <td>25.980829</td>\n",
       "      <td>1.775686</td>\n",
       "      <td>48.582378</td>\n",
       "      <td>-0.299545</td>\n",
       "      <td>41.586990</td>\n",
       "      <td>rock</td>\n",
       "    </tr>\n",
       "    <tr>\n",
       "      <th>9988</th>\n",
       "      <td>rock.00099.8.wav</td>\n",
       "      <td>66149</td>\n",
       "      <td>0.387527</td>\n",
       "      <td>0.084815</td>\n",
       "      <td>0.066430</td>\n",
       "      <td>0.000320</td>\n",
       "      <td>2084.515327</td>\n",
       "      <td>203891.039161</td>\n",
       "      <td>2018.366254</td>\n",
       "      <td>22860.992562</td>\n",
       "      <td>...</td>\n",
       "      <td>28.323744</td>\n",
       "      <td>-5.363541</td>\n",
       "      <td>17.209942</td>\n",
       "      <td>6.462601</td>\n",
       "      <td>21.442928</td>\n",
       "      <td>2.354765</td>\n",
       "      <td>24.843613</td>\n",
       "      <td>0.675824</td>\n",
       "      <td>12.787750</td>\n",
       "      <td>rock</td>\n",
       "    </tr>\n",
       "    <tr>\n",
       "      <th>9989</th>\n",
       "      <td>rock.00099.9.wav</td>\n",
       "      <td>66149</td>\n",
       "      <td>0.369293</td>\n",
       "      <td>0.086759</td>\n",
       "      <td>0.050524</td>\n",
       "      <td>0.000067</td>\n",
       "      <td>1634.330126</td>\n",
       "      <td>411429.169769</td>\n",
       "      <td>1867.422378</td>\n",
       "      <td>119722.211518</td>\n",
       "      <td>...</td>\n",
       "      <td>38.801735</td>\n",
       "      <td>-11.598399</td>\n",
       "      <td>58.983097</td>\n",
       "      <td>-0.178517</td>\n",
       "      <td>55.761299</td>\n",
       "      <td>-6.903252</td>\n",
       "      <td>39.485901</td>\n",
       "      <td>-3.412534</td>\n",
       "      <td>31.727489</td>\n",
       "      <td>rock</td>\n",
       "    </tr>\n",
       "  </tbody>\n",
       "</table>\n",
       "<p>9990 rows × 60 columns</p>\n",
       "</div>"
      ],
      "text/plain": [
       "               filename  length  chroma_stft_mean  chroma_stft_var  rms_mean  \\\n",
       "0     blues.00000.0.wav   66149          0.335406         0.091048  0.130405   \n",
       "1     blues.00000.1.wav   66149          0.343065         0.086147  0.112699   \n",
       "2     blues.00000.2.wav   66149          0.346815         0.092243  0.132003   \n",
       "3     blues.00000.3.wav   66149          0.363639         0.086856  0.132565   \n",
       "4     blues.00000.4.wav   66149          0.335579         0.088129  0.143289   \n",
       "...                 ...     ...               ...              ...       ...   \n",
       "9985   rock.00099.5.wav   66149          0.349126         0.080515  0.050019   \n",
       "9986   rock.00099.6.wav   66149          0.372564         0.082626  0.057897   \n",
       "9987   rock.00099.7.wav   66149          0.347481         0.089019  0.052403   \n",
       "9988   rock.00099.8.wav   66149          0.387527         0.084815  0.066430   \n",
       "9989   rock.00099.9.wav   66149          0.369293         0.086759  0.050524   \n",
       "\n",
       "       rms_var  spectral_centroid_mean  spectral_centroid_var  \\\n",
       "0     0.003521             1773.065032          167541.630869   \n",
       "1     0.001450             1816.693777           90525.690866   \n",
       "2     0.004620             1788.539719          111407.437613   \n",
       "3     0.002448             1655.289045          111952.284517   \n",
       "4     0.001701             1630.656199           79667.267654   \n",
       "...        ...                     ...                    ...   \n",
       "9985  0.000097             1499.083005          164266.886443   \n",
       "9986  0.000088             1847.965128          281054.935973   \n",
       "9987  0.000701             1346.157659          662956.246325   \n",
       "9988  0.000320             2084.515327          203891.039161   \n",
       "9989  0.000067             1634.330126          411429.169769   \n",
       "\n",
       "      spectral_bandwidth_mean  spectral_bandwidth_var  ...  mfcc16_var  \\\n",
       "0                 1972.744388           117335.771563  ...   39.687145   \n",
       "1                 2010.051501            65671.875673  ...   64.748276   \n",
       "2                 2084.565132            75124.921716  ...   67.336563   \n",
       "3                 1960.039988            82913.639269  ...   47.739452   \n",
       "4                 1948.503884            60204.020268  ...   30.336359   \n",
       "...                       ...                     ...  ...         ...   \n",
       "9985              1718.707215            85931.574523  ...   42.485981   \n",
       "9986              1906.468492            99727.037054  ...   32.415203   \n",
       "9987              1561.859087           138762.841945  ...   78.228149   \n",
       "9988              2018.366254            22860.992562  ...   28.323744   \n",
       "9989              1867.422378           119722.211518  ...   38.801735   \n",
       "\n",
       "      mfcc17_mean  mfcc17_var  mfcc18_mean  mfcc18_var  mfcc19_mean  \\\n",
       "0       -3.241280   36.488243     0.722209   38.099152    -5.050335   \n",
       "1       -6.055294   40.677654     0.159015   51.264091    -2.837699   \n",
       "2       -1.768610   28.348579     2.378768   45.717648    -1.938424   \n",
       "3       -3.841155   28.337118     1.218588   34.770935    -3.580352   \n",
       "4        0.664582   45.880913     1.689446   51.363583    -3.392489   \n",
       "...           ...         ...          ...         ...          ...   \n",
       "9985    -9.094270   38.326839    -4.246976   31.049839    -5.625813   \n",
       "9986   -12.375726   66.418587    -3.081278   54.414265   -11.960546   \n",
       "9987    -2.524483   21.778994     4.809936   25.980829     1.775686   \n",
       "9988    -5.363541   17.209942     6.462601   21.442928     2.354765   \n",
       "9989   -11.598399   58.983097    -0.178517   55.761299    -6.903252   \n",
       "\n",
       "      mfcc19_var  mfcc20_mean  mfcc20_var  label  \n",
       "0      33.618073    -0.243027   43.771767  blues  \n",
       "1      97.030830     5.784063   59.943081  blues  \n",
       "2      53.050835     2.517375   33.105122  blues  \n",
       "3      50.836224     3.630866   32.023678  blues  \n",
       "4      26.738789     0.536961   29.146694  blues  \n",
       "...          ...          ...         ...    ...  \n",
       "9985   48.804092     1.818823   38.966969   rock  \n",
       "9986   63.452255     0.428857   18.697033   rock  \n",
       "9987   48.582378    -0.299545   41.586990   rock  \n",
       "9988   24.843613     0.675824   12.787750   rock  \n",
       "9989   39.485901    -3.412534   31.727489   rock  \n",
       "\n",
       "[9990 rows x 60 columns]"
      ]
     },
     "execution_count": 25,
     "metadata": {},
     "output_type": "execute_result"
    }
   ],
   "source": [
    "df_short = pd.read_csv('./data/features_3_sec.csv')\n",
    "df_short"
   ]
  },
  {
   "cell_type": "code",
   "execution_count": 26,
   "metadata": {},
   "outputs": [],
   "source": [
    "df_short['label'] = df_short[\"label\"].astype('category')\n",
    "df_short['label'] = df_short[\"label\"].cat.codes"
   ]
  },
  {
   "cell_type": "code",
   "execution_count": 27,
   "metadata": {},
   "outputs": [],
   "source": [
    "df1_short = df_short.drop(df_short.iloc[:,:19],1)\n",
    "df1_short = df1_short.drop(df1.iloc[:,1::2],1)"
   ]
  },
  {
   "cell_type": "code",
   "execution_count": 28,
   "metadata": {},
   "outputs": [],
   "source": [
    "# goood to see if there is any major correlation, nulls or any other key factors that we might miss\n",
    "df_profile1 = df1_short[df1_short.columns[~df1_short.columns.isin(['label'])]]\n",
    "\n",
    "# When ran the below commented line, the file is big (50 MB) so careful when opening/running it\n",
    "# profile = ProfileReport(df_profiel)\n",
    "\n",
    "# line below does about the same job, except it leaves our the scatter matrix between each feature\n",
    "# allowing us to have smaller report html file.\n",
    "profile1 = ProfileReport(df_profile1, interactions={'continuous': False})"
   ]
  },
  {
   "cell_type": "code",
   "execution_count": 54,
   "metadata": {},
   "outputs": [
    {
     "data": {
      "application/vnd.jupyter.widget-view+json": {
       "model_id": "b4516295561d43b1b6a1da02913d27c5",
       "version_major": 2,
       "version_minor": 0
      },
      "text/plain": [
       "Summarize dataset:   0%|          | 0/43 [00:00<?, ?it/s]"
      ]
     },
     "metadata": {},
     "output_type": "display_data"
    },
    {
     "data": {
      "application/vnd.jupyter.widget-view+json": {
       "model_id": "9af5cf0ab5624514a4998b7c20b428c7",
       "version_major": 2,
       "version_minor": 0
      },
      "text/plain": [
       "Generate report structure:   0%|          | 0/1 [00:00<?, ?it/s]"
      ]
     },
     "metadata": {},
     "output_type": "display_data"
    },
    {
     "data": {
      "application/vnd.jupyter.widget-view+json": {
       "model_id": "14a53363f3b74e7b8b7e32fa65755191",
       "version_major": 2,
       "version_minor": 0
      },
      "text/plain": [
       "Render HTML:   0%|          | 0/1 [00:00<?, ?it/s]"
      ]
     },
     "metadata": {},
     "output_type": "display_data"
    },
    {
     "data": {
      "application/vnd.jupyter.widget-view+json": {
       "model_id": "4c397be6fe6041b1a1f288ffc751b69c",
       "version_major": 2,
       "version_minor": 0
      },
      "text/plain": [
       "Export report to file:   0%|          | 0/1 [00:00<?, ?it/s]"
      ]
     },
     "metadata": {},
     "output_type": "display_data"
    }
   ],
   "source": [
    "profile1.to_file(\"3sec_report.html\")"
   ]
  },
  {
   "cell_type": "markdown",
   "metadata": {},
   "source": [
    "From the report generated above or [here](3sec_report.html), we see that we don't have nulls, but we do have some duplicates, it could be the same reason as we had for 30 seconds dataframe having 14 duplicates. [30seconds_reason](#Reason-for-Duplicates)"
   ]
  },
  {
   "cell_type": "code",
   "execution_count": 29,
   "metadata": {},
   "outputs": [],
   "source": [
    "df1_short = df1_short.sample(frac=1,random_state=0)"
   ]
  },
  {
   "cell_type": "code",
   "execution_count": 30,
   "metadata": {},
   "outputs": [],
   "source": [
    "X_short = df1_short[df1_short.columns[~df1_short.columns.isin(['label'])]].to_numpy()\n",
    "y_short = df1_short['label'].to_numpy()"
   ]
  },
  {
   "cell_type": "code",
   "execution_count": 31,
   "metadata": {},
   "outputs": [],
   "source": [
    "X_train1, X_test1, y_train1, y_test1 = train_test_split(X_short, y_short, test_size=0.30, random_state=0)"
   ]
  },
  {
   "cell_type": "code",
   "execution_count": 32,
   "metadata": {},
   "outputs": [],
   "source": [
    "y_true_train1 = one_hot(y_train1, 10)\n",
    "y_true_test1 = one_hot(y_test1, 10)"
   ]
  },
  {
   "cell_type": "code",
   "execution_count": 46,
   "metadata": {},
   "outputs": [],
   "source": [
    "outs=160\n",
    "outs1=80\n",
    "outs2=40\n",
    "outs3=20\n",
    "\n",
    "lay_train = [\n",
    "    InputLayer(X_train1),\n",
    "    FullyConnectedLayer(len(X_train1[0]), outs),\n",
    "    SigmoidLayer(),\n",
    "    FullyConnectedLayer(outs, outs1),\n",
    "    SigmoidLayer(),\n",
    "    FullyConnectedLayer(outs1, outs2),\n",
    "    SigmoidLayer(),\n",
    "    FullyConnectedLayer(outs2, outs3),\n",
    "    SigmoidLayer(),\n",
    "    FullyConnectedLayer(outs3, 10),\n",
    "    SoftmaxLayer(),\n",
    "    CrossEntropy()\n",
    "]\n",
    "\n",
    "layers_val = [\n",
    "    InputLayer(X_test1),\n",
    "    FullyConnectedLayer(len(X_test1[0]), outs),\n",
    "    SigmoidLayer(),\n",
    "    FullyConnectedLayer(outs, outs1),\n",
    "    SigmoidLayer(),\n",
    "    FullyConnectedLayer(outs1, outs2),\n",
    "    SigmoidLayer(),\n",
    "    FullyConnectedLayer(outs2, outs3),\n",
    "    SigmoidLayer(),\n",
    "    FullyConnectedLayer(outs3, 10),\n",
    "    SoftmaxLayer(),\n",
    "    CrossEntropy()\n",
    "]"
   ]
  },
  {
   "cell_type": "code",
   "execution_count": 47,
   "metadata": {},
   "outputs": [
    {
     "name": "stderr",
     "output_type": "stream",
     "text": [
      "100%|██████████| 100/100 [04:21<00:00,  2.62s/it]\n"
     ]
    }
   ],
   "source": [
    "# running those given layers with our model function with specific given eta and epochs\n",
    "# the eta and epochs shown below aren't final and are just shown as a demo to check if code works correctly\n",
    "\n",
    "# 19\n",
    "ll_train3, y_pred_train3, ll_val3, y_pred_val3, acc_train3, acc_val3, epochs3, \\\n",
    "eta3 = model(X_train1, y_train1, X_test1, y_test1, lay_train, layers_val, eta = 0.001, epochs = 100)\n",
    "\n",
    "ll_train4, y_pred_train4, ll_val4, y_pred_val4, acc_train4, acc_val4, epochs4, \\\n",
    "eta4 = model(X_train1, y_train1, X_test1, y_test1, lay_train, layers_val, eta = 0.001, epochs = 100)\n",
    "\n",
    "ll_train5, y_pred_train5, ll_val5, y_pred_val5, acc_train5, acc_val5, epochs5, \\\n",
    "eta5 = model(X_train1, y_train1, X_test1, y_test1, lay_train, layers_val, eta = 0.03, epochs = 100)"
   ]
  },
  {
   "cell_type": "code",
   "execution_count": null,
   "metadata": {},
   "outputs": [],
   "source": [
    "# the graphs and accuracy you see below aren't the final ones we chose, \n",
    "# these are just demo runs to check if our code works fine\n",
    "\n",
    "print('When we train and test our model with 3 seconds dataframe')\n",
    "print()\n",
    "print(f'When epochs = {epochs3} and eta = {eta3}:')\n",
    "print(f'Training Accuracy: {round(acc_train3[-1],2)}%, Testing Accuracy: {round(acc_val3[-1],2)}%')\n",
    "print()\n",
    "print(f'When epochs = {epochs4} and eta = {eta4}:')\n",
    "print(f'Training Accuracy: {round(acc_train4[-1],2)}%, Testing Accuracy: {round(acc_val4[-1],2)}%')\n"
   ]
  },
  {
   "cell_type": "code",
   "execution_count": 49,
   "metadata": {},
   "outputs": [
    {
     "data": {
      "image/png": "[encoded data removed]",
      "text/plain": [
       "<Figure size 720x720 with 6 Axes>"
      ]
     },
     "metadata": {},
     "output_type": "display_data"
    }
   ],
   "source": [
    "\n",
    "alls=[\n",
    "    ll_train3, ll_val3, acc_train3,  acc_val3, epochs3,  eta3,\n",
    "    ll_train4, ll_val4, acc_train4,  acc_val4, epochs4,  eta4,     \n",
    "    ll_train5, ll_val5, acc_train5,  acc_val5, epochs5,  eta5,\n",
    "     ]\n",
    "\n",
    "fig = plt.figure()\n",
    "fig.set_size_inches(10, 10)\n",
    "\n",
    "create_graphs(alls, 3, 2)\n",
    "fig.savefig('3_sec.png')"
   ]
  },
  {
   "cell_type": "code",
   "execution_count": null,
   "metadata": {},
   "outputs": [],
   "source": []
  },
  {
   "cell_type": "code",
   "execution_count": null,
   "metadata": {},
   "outputs": [],
   "source": []
  },
  {
   "cell_type": "code",
   "execution_count": null,
   "metadata": {},
   "outputs": [],
   "source": []
  }
 ],
 "metadata": {
  "kernelspec": {
   "display_name": "Python 3",
   "language": "python",
   "name": "python3"
  },
  "language_info": {
   "codemirror_mode": {
    "name": "ipython",
    "version": 3
   },
   "file_extension": ".py",
   "mimetype": "text/x-python",
   "name": "python",
   "nbconvert_exporter": "python",
   "pygments_lexer": "ipython3",
   "version": "3.8.5"
  }
 },
 "nbformat": 4,
 "nbformat_minor": 4
}
